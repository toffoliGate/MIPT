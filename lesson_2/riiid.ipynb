{
  "nbformat": 4,
  "nbformat_minor": 0,
  "metadata": {
    "colab": {
      "provenance": [],
      "collapsed_sections": []
    },
    "kernelspec": {
      "name": "python3",
      "display_name": "Python 3"
    },
    "language_info": {
      "name": "python"
    }
  },
  "cells": [
    {
      "cell_type": "code",
      "source": [
        "# required modules installation\n",
        "from IPython import display\n",
        "!pip install -q kaggle\n",
        "!pip install -q kaggle-cli\n",
        "!pip install category_encoders\n",
        "display.clear_output()"
      ],
      "metadata": {
        "id": "1NxWFKmGKUOM"
      },
      "execution_count": 1,
      "outputs": []
    },
    {
      "cell_type": "code",
      "source": [
        "import matplotlib.pyplot as plt\n",
        "import pandas as pd\n",
        "import dask.dataframe as dd\n",
        "\n",
        "import warnings\n",
        "warnings.filterwarnings(\"ignore\")"
      ],
      "metadata": {
        "id": "PnPJq30AKIqt"
      },
      "execution_count": 2,
      "outputs": []
    },
    {
      "cell_type": "markdown",
      "source": [
        "# data upload"
      ],
      "metadata": {
        "id": "-Elahur9KKMh"
      }
    },
    {
      "cell_type": "code",
      "execution_count": 2,
      "metadata": {
        "colab": {
          "base_uri": "https://localhost:8080/"
        },
        "id": "he0tiUheGQWg",
        "outputId": "b04ff98a-c07a-46db-b03a-b12b77363dd3"
      },
      "outputs": [
        {
          "output_type": "stream",
          "name": "stdout",
          "text": [
            "Drive already mounted at /content/d; to attempt to forcibly remount, call drive.mount(\"/content/d\", force_remount=True).\n"
          ]
        }
      ],
      "source": [
        "from google.colab import drive\n",
        "drive.mount(\"/content/d\")"
      ]
    },
    {
      "cell_type": "code",
      "source": [
        "!mkdir -p ~/.kaggle\n",
        "!cp d/MyDrive/kaggle/kaggle.json ~/.kaggle/"
      ],
      "metadata": {
        "id": "3f2fq2IeHS9D"
      },
      "execution_count": 4,
      "outputs": []
    },
    {
      "cell_type": "code",
      "source": [
        "!kaggle competitions download -c riiid-test-answer-prediction\n",
        "!unzip riiid-test-answer-prediction.zip"
      ],
      "metadata": {
        "colab": {
          "base_uri": "https://localhost:8080/"
        },
        "id": "5Gz6lFGlHa3s",
        "outputId": "3ae25e50-6149-4b1f-c818-088c3d6ae4d8"
      },
      "execution_count": 5,
      "outputs": [
        {
          "output_type": "stream",
          "name": "stdout",
          "text": [
            "Downloading riiid-test-answer-prediction.zip to /content\n",
            "100% 1.29G/1.29G [00:31<00:00, 65.1MB/s]\n",
            "100% 1.29G/1.29G [00:31<00:00, 44.3MB/s]\n",
            "Archive:  riiid-test-answer-prediction.zip\n",
            "  inflating: example_sample_submission.csv  \n",
            "  inflating: example_test.csv        \n",
            "  inflating: lectures.csv            \n",
            "  inflating: questions.csv           \n",
            "  inflating: riiideducation/__init__.py  \n",
            "  inflating: riiideducation/competition.cpython-37m-x86_64-linux-gnu.so  \n",
            "  inflating: train.csv               \n"
          ]
        }
      ]
    },
    {
      "cell_type": "markdown",
      "source": [
        "# research *train.csv* features"
      ],
      "metadata": {
        "id": "7_UdKxpBJvWn"
      }
    },
    {
      "cell_type": "markdown",
      "source": [
        "## technical research"
      ],
      "metadata": {
        "id": "kqwkLZsluuuD"
      }
    },
    {
      "cell_type": "code",
      "source": [
        "# check the dataset size\n",
        "train = dd.read_csv(\"train.csv\")\n",
        "sh = train.shape\n",
        "print(f\"dataset shape: {sh[0].compute()} rows, {sh[1]} columns\")"
      ],
      "metadata": {
        "colab": {
          "base_uri": "https://localhost:8080/"
        },
        "id": "BltcLqszIDci",
        "outputId": "fe71ce97-fe6e-4f0f-e0ee-a122ac0e51dd"
      },
      "execution_count": 26,
      "outputs": [
        {
          "output_type": "stream",
          "name": "stdout",
          "text": [
            "dataset shape: 101230332 rows, 10 columns\n"
          ]
        }
      ]
    },
    {
      "cell_type": "code",
      "source": [
        "# check the dataste columns types\n",
        "print(train.dtypes)"
      ],
      "metadata": {
        "colab": {
          "base_uri": "https://localhost:8080/"
        },
        "id": "CcC0muQnLRmR",
        "outputId": "d9b856ed-4bfe-4086-c9fc-d7adbbba7a0f"
      },
      "execution_count": 27,
      "outputs": [
        {
          "output_type": "stream",
          "name": "stdout",
          "text": [
            "row_id                              int64\n",
            "timestamp                           int64\n",
            "user_id                             int64\n",
            "content_id                          int64\n",
            "content_type_id                     int64\n",
            "task_container_id                   int64\n",
            "user_answer                         int64\n",
            "answered_correctly                  int64\n",
            "prior_question_elapsed_time       float64\n",
            "prior_question_had_explanation     object\n",
            "dtype: object\n"
          ]
        }
      ]
    },
    {
      "cell_type": "code",
      "source": [
        "# check if the features values allow to lower dtype memory consumption\n",
        "for feat in train:\n",
        "    print(f\"feature: {feat}\")\n",
        "    print(train[feat].value_counts().compute().iloc[:10])\n",
        "    print()"
      ],
      "metadata": {
        "colab": {
          "base_uri": "https://localhost:8080/"
        },
        "id": "wOxPhzdtO7r2",
        "outputId": "ec020260-39db-4d72-ce54-8ad0c9d9377b"
      },
      "execution_count": 41,
      "outputs": [
        {
          "output_type": "stream",
          "name": "stdout",
          "text": [
            "feature: row_id\n",
            "0           1\n",
            "67486919    1\n",
            "67486893    1\n",
            "67486892    1\n",
            "67486891    1\n",
            "67486890    1\n",
            "67486889    1\n",
            "67486888    1\n",
            "67486887    1\n",
            "67486886    1\n",
            "Name: row_id, dtype: int64\n",
            "\n",
            "feature: timestamp\n",
            "0        396417\n",
            "24220        48\n",
            "24163        48\n",
            "25010        46\n",
            "24072        46\n",
            "24702        46\n",
            "23587        46\n",
            "24755        46\n",
            "23823        46\n",
            "24111        46\n",
            "Name: timestamp, dtype: int64\n",
            "\n",
            "feature: user_id\n",
            "801103753     17917\n",
            "1478712595    16914\n",
            "1842816145    16851\n",
            "455973631     16789\n",
            "1660941992    16777\n",
            "1743444187    16654\n",
            "2146130037    16384\n",
            "1047202059    16348\n",
            "1615528747    16146\n",
            "338684437     15963\n",
            "Name: user_id, dtype: int64\n",
            "\n",
            "feature: content_id\n",
            "6116    213605\n",
            "6173    202106\n",
            "4120    199372\n",
            "175     195861\n",
            "7876    190170\n",
            "7900    180858\n",
            "2063    176043\n",
            "2064    176043\n",
            "2065    176043\n",
            "4492    173769\n",
            "Name: content_id, dtype: int64\n",
            "\n",
            "feature: content_type_id\n",
            "0    99271300\n",
            "1     1959032\n",
            "Name: content_type_id, dtype: int64\n",
            "\n",
            "feature: task_container_id\n",
            "14    804285\n",
            "15    798539\n",
            "4     692079\n",
            "5     690051\n",
            "6     688813\n",
            "7     684275\n",
            "11    403521\n",
            "10    400660\n",
            "8     400019\n",
            "9     399641\n",
            "Name: task_container_id, dtype: int64\n",
            "\n",
            "feature: user_answer\n",
            " 0    28186489\n",
            " 1    26990007\n",
            " 3    26084784\n",
            " 2    18010020\n",
            "-1     1959032\n",
            "Name: user_answer, dtype: int64\n",
            "\n",
            "feature: answered_correctly\n",
            " 1    65244627\n",
            " 0    34026673\n",
            "-1     1959032\n",
            "Name: answered_correctly, dtype: int64\n",
            "\n",
            "feature: prior_question_elapsed_time\n",
            "17000.0    5154588\n",
            "16000.0    4752104\n",
            "18000.0    4670915\n",
            "19000.0    4017031\n",
            "15000.0    3640279\n",
            "20000.0    3597394\n",
            "21000.0    3325947\n",
            "22000.0    3041894\n",
            "23000.0    2677660\n",
            "14000.0    2634224\n",
            "Name: prior_question_elapsed_time, dtype: int64\n",
            "\n",
            "feature: prior_question_had_explanation\n",
            "True     89685560\n",
            "False    11152266\n",
            "Name: prior_question_had_explanation, dtype: int64\n",
            "\n"
          ]
        }
      ]
    },
    {
      "cell_type": "code",
      "source": [
        "# decrease RAM consumption throught features dtype\n",
        "# and read by pandas\n",
        "dtypes = {\n",
        "    \"row_id\": \"int64\",\n",
        "    \"timestamp\": \"int64\",\n",
        "    \"user_id\": \"int32\",\n",
        "    \"content_id\": \"int16\",\n",
        "    \"content_type_id\": \"boolean\",\n",
        "    \"task_container_id\": \"int16\",\n",
        "    \"user_answer\": \"int8\",\n",
        "    \"answered_correctly\": \"int8\",\n",
        "    \"prior_question_elapsed_time\": \"float32\", \n",
        "    \"prior_question_had_explanation\": \"boolean\"\n",
        "}\n",
        "\n",
        "train = pd.read_csv(\"train.csv\", dtype=dtypes)"
      ],
      "metadata": {
        "id": "XUyojXn4TyF3"
      },
      "execution_count": 3,
      "outputs": []
    },
    {
      "cell_type": "code",
      "source": [
        "labels = train.columns\n",
        "naS = [train[f].isna().sum() for f in train]\n",
        "fld = [len(train) - train[f].isna().sum() for f in train]\n",
        "\n",
        "for i in range(len(train.columns)):\n",
        "    print(f\"empty values for the feature {train.columns[i]}: {round(naS[i] / fld[i] * 100, 2)}%\")\n",
        "\n",
        "plt.xticks(rotation=45)\n",
        "plt.bar(labels, fld, color=\"green\")\n",
        "plt.bar(labels, naS, bottom=fld, color=\"red\", label=\"empty\")\n",
        "plt.legend();"
      ],
      "metadata": {
        "colab": {
          "base_uri": "https://localhost:8080/",
          "height": 568
        },
        "id": "nW_kheocXZDY",
        "outputId": "57628fcf-e5c7-414e-c13c-1f0f1449a246"
      },
      "execution_count": 72,
      "outputs": [
        {
          "output_type": "stream",
          "name": "stdout",
          "text": [
            "empty values for the feature row_id: 0.0%\n",
            "empty values for the feature timestamp: 0.0%\n",
            "empty values for the feature user_id: 0.0%\n",
            "empty values for the feature content_id: 0.0%\n",
            "empty values for the feature content_type_id: 0.0%\n",
            "empty values for the feature task_container_id: 0.0%\n",
            "empty values for the feature user_answer: 0.0%\n",
            "empty values for the feature answered_correctly: 0.0%\n",
            "empty values for the feature prior_question_elapsed_time: 2.38%\n",
            "empty values for the feature prior_question_had_explanation: 0.39%\n"
          ]
        },
        {
          "output_type": "display_data",
          "data": {
            "text/plain": [
              "<Figure size 432x288 with 1 Axes>"
            ],
            "image/png": "[encoded data removed]"
          },
          "metadata": {
            "needs_background": "light"
          }
        }
      ]
    },
    {
      "cell_type": "markdown",
      "source": [
        "### timestamp"
      ],
      "metadata": {
        "id": "ZJ2eWJqp_rF1"
      }
    },
    {
      "cell_type": "markdown",
      "source": [
        "The feature *'timestamp'* is the time between the user interaction and the event completion in miliseconds. To get the general understanding of the time period the data should be converted to the regular units:"
      ],
      "metadata": {
        "id": "cbujf-CYkq3F"
      }
    },
    {
      "cell_type": "code",
      "source": [
        "# check the median value in other units\n",
        "print(\n",
        "    f\"the mode of the timestamp is {int(train.timestamp.describe()['50%'] / (1000 * 60 * 60))} hours \"\\\n",
        "    f\"or {int(train.timestamp.describe()['50%'] / (1000 * 60 * 60 * 24))} days\"\n",
        ")"
      ],
      "metadata": {
        "colab": {
          "base_uri": "https://localhost:8080/"
        },
        "id": "jpjeUOmUXZGP",
        "outputId": "d419ed1a-029b-409a-e13c-f6b51994de55"
      },
      "execution_count": 14,
      "outputs": [
        {
          "output_type": "stream",
          "name": "stdout",
          "text": [
            "the mode of the timestamp is 742 hours or 30 days\n"
          ]
        }
      ]
    },
    {
      "cell_type": "markdown",
      "source": [
        "Let's visualize the timestamp in months:"
      ],
      "metadata": {
        "id": "oID9s2NQwqsd"
      }
    },
    {
      "cell_type": "code",
      "source": [
        "plt.figure(figsize=(17,13))\n",
        "plt.hist(train.timestamp/(1000 * 60 * 60 * 24 * 30), bins=100);"
      ],
      "metadata": {
        "colab": {
          "base_uri": "https://localhost:8080/",
          "height": 766
        },
        "id": "GsCcW4wJtwlK",
        "outputId": "e9f8fe16-75a8-42df-9ad3-68a1c2993dc3"
      },
      "execution_count": 7,
      "outputs": [
        {
          "output_type": "display_data",
          "data": {
            "text/plain": [
              "<Figure size 1224x936 with 1 Axes>"
            ],
            "image/png": "[encoded data removed]"
          },
          "metadata": {
            "needs_background": "light"
          }
        }
      ]
    },
    {
      "cell_type": "markdown",
      "source": [
        "Significant amount of interactions covers the first year quater."
      ],
      "metadata": {
        "id": "FlNOS5ig_Jc9"
      }
    },
    {
      "cell_type": "markdown",
      "source": [
        "### user_id"
      ],
      "metadata": {
        "id": "-3G_fOMX_nbH"
      }
    },
    {
      "cell_type": "code",
      "source": [
        "print(\n",
        "    f\"number of the unique users: {train.user_id.nunique():,},\\n\"\\\n",
        "    f\"that is {int(len(train) / train.user_id.nunique())} interaction per user in average\"\n",
        ")"
      ],
      "metadata": {
        "colab": {
          "base_uri": "https://localhost:8080/"
        },
        "id": "8qFLi9iLHcvV",
        "outputId": "734d4975-5e4d-45f5-8215-39a2655f58c0"
      },
      "execution_count": 15,
      "outputs": [
        {
          "output_type": "stream",
          "name": "stdout",
          "text": [
            "number of the unique users: 393,656,\n",
            "that is 257 interaction per user in average\n"
          ]
        }
      ]
    },
    {
      "cell_type": "markdown",
      "source": [
        "### content_id and content_type_id"
      ],
      "metadata": {
        "id": "eHpFditwHLbh"
      }
    },
    {
      "cell_type": "markdown",
      "source": [
        "All user interactions can be classified as question or lecture:"
      ],
      "metadata": {
        "id": "zSygHzC3LO-R"
      }
    },
    {
      "cell_type": "code",
      "source": [
        "questions_id = train[train.content_type_id == 0].content_id.unique().tolist()\n",
        "lectures_id = train[train.content_type_id == 1].content_id.unique().tolist()\n",
        "print(\n",
        "    f\"number of questions interaction type: {len(questions_id)},\\n\"\\\n",
        "    f\"that is {int(len(questions_id)/train.content_id.nunique())*100}% of all interacton type,\\n\"\\\n",
        "    f\"number of lectures interaction type: {len(lectures_id)}\"\n",
        ")"
      ],
      "metadata": {
        "colab": {
          "base_uri": "https://localhost:8080/"
        },
        "id": "96LMuk23F39L",
        "outputId": "15eee39e-04c1-4140-e2c8-d77367384761"
      },
      "execution_count": 30,
      "outputs": [
        {
          "output_type": "stream",
          "name": "stdout",
          "text": [
            "number of questions interaction type: 13523,\n",
            "that is 0% of all interacton type,\n",
            "number of lectures interaction type: 415\n"
          ]
        }
      ]
    },
    {
      "cell_type": "code",
      "source": [
        "print(f\"top 10 most popular questions:\")\n",
        "train[train.content_type_id == 0].content_id.value_counts().iloc[:10]"
      ],
      "metadata": {
        "colab": {
          "base_uri": "https://localhost:8080/"
        },
        "id": "KhNQqz7VXZIw",
        "outputId": "cf0a75dc-3296-4b84-8505-82b17c088dcb"
      },
      "execution_count": 3,
      "outputs": [
        {
          "output_type": "stream",
          "name": "stdout",
          "text": [
            "top 10 most popular questions:\n"
          ]
        },
        {
          "output_type": "execute_result",
          "data": {
            "text/plain": [
              "6116    213605\n",
              "6173    202106\n",
              "4120    199372\n",
              "175     195861\n",
              "7876    190170\n",
              "7900    180858\n",
              "2063    176043\n",
              "2065    176043\n",
              "2064    176043\n",
              "4492    173769\n",
              "Name: content_id, dtype: int64"
            ]
          },
          "metadata": {},
          "execution_count": 3
        }
      ]
    },
    {
      "cell_type": "code",
      "source": [
        "print(f\"top 10 most popular lectures:\")\n",
        "train[train.content_type_id == 1].content_id.value_counts().iloc[:10]"
      ],
      "metadata": {
        "colab": {
          "base_uri": "https://localhost:8080/"
        },
        "id": "t8Si1yTxXZL1",
        "outputId": "4483d709-f368-4207-e4ed-00b06a74521e"
      },
      "execution_count": 5,
      "outputs": [
        {
          "output_type": "stream",
          "name": "stdout",
          "text": [
            "top 10 most popular lectures:\n"
          ]
        },
        {
          "output_type": "execute_result",
          "data": {
            "text/plain": [
              "3153     37024\n",
              "21411    27051\n",
              "10540    24312\n",
              "29695    24126\n",
              "15888    22627\n",
              "27845    21250\n",
              "26335    21118\n",
              "32312    20943\n",
              "29544    20941\n",
              "18545    19167\n",
              "Name: content_id, dtype: int64"
            ]
          },
          "metadata": {},
          "execution_count": 5
        }
      ]
    },
    {
      "cell_type": "markdown",
      "source": [
        "### *'user_answer'*"
      ],
      "metadata": {
        "id": "OqOzxFIekqfT"
      }
    },
    {
      "cell_type": "code",
      "source": [
        "print(f\"the distribution of the users answers:\")\n",
        "train.user_answer.value_counts()"
      ],
      "metadata": {
        "colab": {
          "base_uri": "https://localhost:8080/"
        },
        "id": "Y5FPnDVJXZPj",
        "outputId": "c386ab0f-e09b-4160-c40e-321f226a7dce"
      },
      "execution_count": 7,
      "outputs": [
        {
          "output_type": "stream",
          "name": "stdout",
          "text": [
            "the distribution of the users answers:\n"
          ]
        },
        {
          "output_type": "execute_result",
          "data": {
            "text/plain": [
              " 0    28186489\n",
              " 1    26990007\n",
              " 3    26084784\n",
              " 2    18010020\n",
              "-1     1959032\n",
              "Name: user_answer, dtype: int64"
            ]
          },
          "metadata": {},
          "execution_count": 7
        }
      ]
    },
    {
      "cell_type": "markdown",
      "source": [
        "Excluding \"-1\" for the lectures the answers are more or less evenly distributed except for the answer \"2\". "
      ],
      "metadata": {
        "id": "_K8RrahNlcMD"
      }
    },
    {
      "cell_type": "markdown",
      "source": [
        "### *'answered_correctly'*"
      ],
      "metadata": {
        "id": "kPQbq19dqKnu"
      }
    },
    {
      "cell_type": "code",
      "source": [
        "excl_lect = len(train[train.answered_correctly != -1])\n",
        "cor = train.answered_correctly.value_counts()[1]\n",
        "incor = train.answered_correctly.value_counts()[0]\n",
        "print(\n",
        "    f\"the distribution of the correct answers excluding lectures:\\n\"\\\n",
        "    f\"correct answes {cor:,}, {int(cor/excl_lect*100)}%\\n\"\n",
        "    f\"incorrect answes {incor:,}, {int(incor/excl_lect*100)}%\\n\"\n",
        ")"
      ],
      "metadata": {
        "colab": {
          "base_uri": "https://localhost:8080/"
        },
        "id": "8iAJQRyLloJk",
        "outputId": "171db155-226e-470c-e1cd-48d1c54d4f66"
      },
      "execution_count": 7,
      "outputs": [
        {
          "output_type": "stream",
          "name": "stdout",
          "text": [
            "the distribution of the correct answers excluding lectures:\n",
            "correct answes 65,244,627, 65%\n",
            "incorrect answes 34,026,673, 34%\n",
            "\n"
          ]
        }
      ]
    },
    {
      "cell_type": "markdown",
      "source": [
        "## content research"
      ],
      "metadata": {
        "id": "R9nCpUB6ukBB"
      }
    },
    {
      "cell_type": "markdown",
      "source": [
        "### answered correctly vs time of interaction\n",
        "Test the assumption of the depedency correct answers and time of interaction. The timestamp is divided unevenly: day, week, month, year, >1 year:"
      ],
      "metadata": {
        "id": "8FdLz2Zyu_V9"
      }
    },
    {
      "cell_type": "code",
      "source": [
        "day = 1000 * 60 * 60 * 24\n",
        "week = day * 7\n",
        "month = day * 30\n",
        "year = day * 365\n",
        "\n",
        "day_a = int(train[train.timestamp < day].answered_correctly.value_counts()[1] \\\n",
        "            / len(train[(train.timestamp < day) & (train.answered_correctly != -1)])*100)\n",
        "week_a = int(train[(train.timestamp < week)].answered_correctly.value_counts()[1] \\\n",
        "             / len(train[(train.timestamp < week) & (train.answered_correctly != -1)])*100)\n",
        "month_a = int(train[(train.timestamp < month)].answered_correctly.value_counts()[1] \\\n",
        "             / len(train[(train.timestamp < month) & (train.answered_correctly != -1)])*100)\n",
        "year_a = int(train[(train.timestamp < year)].answered_correctly.value_counts()[1] \\\n",
        "             / len(train[(train.timestamp < year) & (train.answered_correctly != -1)])*100)\n",
        "long_a = int(train[(train.timestamp >= year)].answered_correctly.value_counts()[1] \\\n",
        "             / len(train[(train.answered_correctly != -1)])*100)\n",
        "\n",
        "print(\n",
        "    f\"correct to incorrect answers within:\\n\"\\\n",
        "    f\"a day {day_a}%\\n\"\\\n",
        "    f\"a week {week_a}%\\n\"\\\n",
        "    f\"a month {month_a}%\\n\"\\\n",
        "    f\"a year {year_a}%\\n\"\\\n",
        "    f\"of the correct answers\\n\"\\\n",
        ")"
      ],
      "metadata": {
        "colab": {
          "base_uri": "https://localhost:8080/"
        },
        "id": "DhFbUiU0rPXY",
        "outputId": "162411c1-01bd-4515-858c-86eee9e4ab5f"
      },
      "execution_count": 20,
      "outputs": [
        {
          "output_type": "stream",
          "name": "stdout",
          "text": [
            "correct to incorrect answers within:\n",
            "a day 55%\n",
            "a week 60%\n",
            "a month 63%\n",
            "a year 65%\n",
            "of the correct answers\n",
            "\n"
          ]
        }
      ]
    },
    {
      "cell_type": "markdown",
      "source": [
        "The general dependency - the longer a user is a the platform the better score he/she gets."
      ],
      "metadata": {
        "id": "xN4ary9V3FY6"
      }
    },
    {
      "cell_type": "markdown",
      "source": [
        "### the percent of the correct answers vs first question bundle\n",
        "\n",
        "The assumption here is if I can generate a new feature - the first question. If the correct answers share statistically differs this might be a good feature. "
      ],
      "metadata": {
        "id": "TX8zo9pP318Z"
      }
    },
    {
      "cell_type": "code",
      "source": [
        "# drop the lecture to get the first bundlge question\n",
        "fq = train[(train.content_type_id == 0)&(train.prior_question_elapsed_time == 0)].answered_correctly.value_counts()\n",
        "print(f\"{int(fq[1] / fq.sum()*100)}% vs 65% in average\")"
      ],
      "metadata": {
        "colab": {
          "base_uri": "https://localhost:8080/"
        },
        "id": "CHWY9KdUUGdV",
        "outputId": "5380629d-2a0a-43c3-aa1a-5f9b0c126b96"
      },
      "execution_count": 28,
      "outputs": [
        {
          "output_type": "stream",
          "name": "stdout",
          "text": [
            "61% vs 65% in average\n"
          ]
        }
      ]
    },
    {
      "cell_type": "markdown",
      "source": [
        "The number of correct answers for the first bundle questions doesn't differ much from the average."
      ],
      "metadata": {
        "id": "EPpy3HnL8ASl"
      }
    },
    {
      "cell_type": "markdown",
      "source": [
        "### the percent of the correct answers vs prior question "
      ],
      "metadata": {
        "id": "plDDMHg9-sxi"
      }
    },
    {
      "cell_type": "code",
      "source": [
        "he = train[train.prior_question_had_explanation == 1].answered_correctly.value_counts()\n",
        "hen = train[train.prior_question_had_explanation == 0].answered_correctly.value_counts()\n",
        "print(\n",
        "    f\"share of the correct answers if a question had an explanation: \"\\\n",
        "    f\"{int(he[1]/he.sum()*100)}%\"\n",
        ")\n",
        "print(\n",
        "    f\"share of the correct answers if a question had no explanation: \"\\\n",
        "    f\"{int(hen[1]/hen.sum()*100)}%\"\n",
        ")"
      ],
      "metadata": {
        "colab": {
          "base_uri": "https://localhost:8080/"
        },
        "id": "CyjPhS_87_es",
        "outputId": "f425f01b-92f9-45ab-9a69-d68bf08a7625"
      },
      "execution_count": 33,
      "outputs": [
        {
          "output_type": "stream",
          "name": "stdout",
          "text": [
            "share of the correct answers if a question had an explanation: 67%\n",
            "share of the correct answers if a question had no explanation: 41%\n"
          ]
        }
      ]
    },
    {
      "cell_type": "markdown",
      "source": [
        "## feature importance\n",
        "\n",
        "Quick research for features importance though linear (logistic regression)dependency. Due to low RAM the dataset will be sampled for 10% of the initial size. "
      ],
      "metadata": {
        "id": "l-bDDU47BsSX"
      }
    },
    {
      "cell_type": "code",
      "source": [
        "import numpy as np\n",
        "from sklearn.linear_model import LogisticRegression\n",
        "from xgboost import XGBClassifier\n",
        "from sklearn.decomposition import PCA\n",
        "from sklearn.preprocessing import StandardScaler"
      ],
      "metadata": {
        "id": "x8eVH95WCKGv"
      },
      "execution_count": 4,
      "outputs": []
    },
    {
      "cell_type": "code",
      "source": [
        "train = train.sample(n=int(len(train)*0.1)).reset_index(drop=True)"
      ],
      "metadata": {
        "id": "nI6mo3XbDMqW"
      },
      "execution_count": 5,
      "outputs": []
    },
    {
      "cell_type": "code",
      "source": [
        "# fill empty values\n",
        "train.prior_question_elapsed_time.fillna(-1, inplace=True)"
      ],
      "metadata": {
        "id": "nzdS6o1HFMFa"
      },
      "execution_count": 6,
      "outputs": []
    },
    {
      "cell_type": "code",
      "source": [
        "train = train.replace({\"prior_question_had_explanation\": {True: 1, False: 0}})\n",
        "train.prior_question_had_explanation.fillna(-1, inplace=True)"
      ],
      "metadata": {
        "id": "Ct6SA0DCGbF3"
      },
      "execution_count": 7,
      "outputs": []
    },
    {
      "cell_type": "code",
      "source": [
        "# encode categorical features\n",
        "to_drop = [\"row_id\", \"user_id\"]\n",
        "categoricals = [\"content_id\", \"content_type_id\", \"task_container_id\", \"user_answer\"]\n",
        "\n",
        "import category_encoders\n",
        "\n",
        "encoder = category_encoders.target_encoder.TargetEncoder(return_df=False)\n",
        "train = train.drop(to_drop, axis=1)\n",
        "encoder.fit(train[categoricals], train.answered_correctly)\n",
        "train[categoricals] = encoder.transform(train[categoricals].copy().values)"
      ],
      "metadata": {
        "colab": {
          "base_uri": "https://localhost:8080/"
        },
        "id": "-leGXEtGFfLI",
        "outputId": "e4d7d6dd-fdd8-4037-e855-520ad2c25728"
      },
      "execution_count": 8,
      "outputs": [
        {
          "output_type": "stream",
          "name": "stdout",
          "text": [
            "Warning: No categorical columns found. Calling 'transform' will only return input data.\n"
          ]
        }
      ]
    },
    {
      "cell_type": "code",
      "source": [
        "# data scaling\n",
        "scaler = StandardScaler()\n",
        "scaler.fit(train.drop(\"answered_correctly\", axis=1), train.answered_correctly)\n",
        "train = pd.concat([\n",
        "    pd.DataFrame(\n",
        "        scaler.transform(train.drop(\"answered_correctly\", axis=1)),\n",
        "            columns = train.drop(\"answered_correctly\", axis=1).columns\n",
        "        ).reset_index(drop=True),\n",
        "        train[\"answered_correctly\"].reset_index(drop=True)], axis=1)"
      ],
      "metadata": {
        "id": "xzScZK25GFIZ"
      },
      "execution_count": 9,
      "outputs": []
    },
    {
      "cell_type": "code",
      "source": [
        "# linear dependency\n",
        "model = LogisticRegression()\n",
        "model.fit(\n",
        "    train.drop(\"answered_correctly\", axis=1), \n",
        "    train.answered_correctly\n",
        ")\n",
        "importances_logreg = pd.DataFrame(data={\n",
        "    'feature': train.drop(\"answered_correctly\", axis=1).columns,\n",
        "    'value': model.coef_[0]\n",
        "})\n",
        "importances_logreg = importances_logreg.sort_values(by='value', ascending=False)\n",
        "\n",
        "\n",
        "k = 0.7\n",
        "mi_logreg = importances_logreg[importances_logreg.value.abs() > importances_logreg.value.abs().max()*k] \n",
        "print(len(mi_logreg),\"/\",len(importances_logreg))\n",
        "\n",
        "if True:\n",
        "    plt.figure(figsize=(13, 7))\n",
        "    plt.xticks(rotation=45)\n",
        "    plt.axhline(importances_logreg.value.abs().max()*k, color=\"r\")\n",
        "    plt.axhline(-importances_logreg.value.abs().max()*k, color=\"r\")\n",
        "    plt.bar(\n",
        "        x=importances_logreg.feature,\n",
        "        height=importances_logreg.value\n",
        "    )"
      ],
      "metadata": {
        "colab": {
          "base_uri": "https://localhost:8080/",
          "height": 557
        },
        "id": "mS95PP-SBnGa",
        "outputId": "aff95ae8-0a31-4905-bddd-9b775b6093dd"
      },
      "execution_count": 10,
      "outputs": [
        {
          "output_type": "stream",
          "name": "stdout",
          "text": [
            "1 / 7\n"
          ]
        },
        {
          "output_type": "display_data",
          "data": {
            "text/plain": [
              "<Figure size 936x504 with 1 Axes>"
            ],
            "image/png": "[encoded data removed]"
          },
          "metadata": {
            "needs_background": "light"
          }
        }
      ]
    },
    {
      "cell_type": "markdown",
      "source": [
        "Based on the linear dependency the most important feature is the content type."
      ],
      "metadata": {
        "id": "kU2REy6ULHF8"
      }
    },
    {
      "cell_type": "markdown",
      "source": [
        "# research *question.csv* features"
      ],
      "metadata": {
        "id": "Z2dF8bS4PHlK"
      }
    },
    {
      "cell_type": "code",
      "source": [
        "quest = pd.read_csv(\"questions.csv\")\n",
        "print(f\"shape: {quest.shape}\")\n",
        "quest.head()"
      ],
      "metadata": {
        "colab": {
          "base_uri": "https://localhost:8080/",
          "height": 224
        },
        "id": "-_tMg2YyBnL_",
        "outputId": "e5a0a6db-55b9-45d0-f2fb-9377f2d95f0b"
      },
      "execution_count": 13,
      "outputs": [
        {
          "output_type": "stream",
          "name": "stdout",
          "text": [
            "shape: (13523, 5)\n"
          ]
        },
        {
          "output_type": "execute_result",
          "data": {
            "text/plain": [
              "   question_id  bundle_id  correct_answer  part            tags\n",
              "0            0          0               0     1   51 131 162 38\n",
              "1            1          1               1     1       131 36 81\n",
              "2            2          2               0     1  131 101 162 92\n",
              "3            3          3               0     1  131 149 162 29\n",
              "4            4          4               3     1    131 5 162 38"
            ],
            "text/html": [
              "\n",
              "  <div id=\"df-d50ef5f5-0c38-43c8-858f-0f583991b14f\">\n",
              "    <div class=\"colab-df-container\">\n",
              "      <div>\n",
              "<style scoped>\n",
              "    .dataframe tbody tr th:only-of-type {\n",
              "        vertical-align: middle;\n",
              "    }\n",
              "\n",
              "    .dataframe tbody tr th {\n",
              "        vertical-align: top;\n",
              "    }\n",
              "\n",
              "    .dataframe thead th {\n",
              "        text-align: right;\n",
              "    }\n",
              "</style>\n",
              "<table border=\"1\" class=\"dataframe\">\n",
              "  <thead>\n",
              "    <tr style=\"text-align: right;\">\n",
              "      <th></th>\n",
              "      <th>question_id</th>\n",
              "      <th>bundle_id</th>\n",
              "      <th>correct_answer</th>\n",
              "      <th>part</th>\n",
              "      <th>tags</th>\n",
              "    </tr>\n",
              "  </thead>\n",
              "  <tbody>\n",
              "    <tr>\n",
              "      <th>0</th>\n",
              "      <td>0</td>\n",
              "      <td>0</td>\n",
              "      <td>0</td>\n",
              "      <td>1</td>\n",
              "      <td>51 131 162 38</td>\n",
              "    </tr>\n",
              "    <tr>\n",
              "      <th>1</th>\n",
              "      <td>1</td>\n",
              "      <td>1</td>\n",
              "      <td>1</td>\n",
              "      <td>1</td>\n",
              "      <td>131 36 81</td>\n",
              "    </tr>\n",
              "    <tr>\n",
              "      <th>2</th>\n",
              "      <td>2</td>\n",
              "      <td>2</td>\n",
              "      <td>0</td>\n",
              "      <td>1</td>\n",
              "      <td>131 101 162 92</td>\n",
              "    </tr>\n",
              "    <tr>\n",
              "      <th>3</th>\n",
              "      <td>3</td>\n",
              "      <td>3</td>\n",
              "      <td>0</td>\n",
              "      <td>1</td>\n",
              "      <td>131 149 162 29</td>\n",
              "    </tr>\n",
              "    <tr>\n",
              "      <th>4</th>\n",
              "      <td>4</td>\n",
              "      <td>4</td>\n",
              "      <td>3</td>\n",
              "      <td>1</td>\n",
              "      <td>131 5 162 38</td>\n",
              "    </tr>\n",
              "  </tbody>\n",
              "</table>\n",
              "</div>\n",
              "      <button class=\"colab-df-convert\" onclick=\"convertToInteractive('df-d50ef5f5-0c38-43c8-858f-0f583991b14f')\"\n",
              "              title=\"Convert this dataframe to an interactive table.\"\n",
              "              style=\"display:none;\">\n",
              "        \n",
              "  <svg xmlns=\"http://www.w3.org/2000/svg\" height=\"24px\"viewBox=\"0 0 24 24\"\n",
              "       width=\"24px\">\n",
              "    <path d=\"M0 0h24v24H0V0z\" fill=\"none\"/>\n",
              "    <path d=\"M18.56 5.44l.94 2.06.94-2.06 2.06-.94-2.06-.94-.94-2.06-.94 2.06-2.06.94zm-11 1L8.5 8.5l.94-2.06 2.06-.94-2.06-.94L8.5 2.5l-.94 2.06-2.06.94zm10 10l.94 2.06.94-2.06 2.06-.94-2.06-.94-.94-2.06-.94 2.06-2.06.94z\"/><path d=\"M17.41 7.96l-1.37-1.37c-.4-.4-.92-.59-1.43-.59-.52 0-1.04.2-1.43.59L10.3 9.45l-7.72 7.72c-.78.78-.78 2.05 0 2.83L4 21.41c.39.39.9.59 1.41.59.51 0 1.02-.2 1.41-.59l7.78-7.78 2.81-2.81c.8-.78.8-2.07 0-2.86zM5.41 20L4 18.59l7.72-7.72 1.47 1.35L5.41 20z\"/>\n",
              "  </svg>\n",
              "      </button>\n",
              "      \n",
              "  <style>\n",
              "    .colab-df-container {\n",
              "      display:flex;\n",
              "      flex-wrap:wrap;\n",
              "      gap: 12px;\n",
              "    }\n",
              "\n",
              "    .colab-df-convert {\n",
              "      background-color: #E8F0FE;\n",
              "      border: none;\n",
              "      border-radius: 50%;\n",
              "      cursor: pointer;\n",
              "      display: none;\n",
              "      fill: #1967D2;\n",
              "      height: 32px;\n",
              "      padding: 0 0 0 0;\n",
              "      width: 32px;\n",
              "    }\n",
              "\n",
              "    .colab-df-convert:hover {\n",
              "      background-color: #E2EBFA;\n",
              "      box-shadow: 0px 1px 2px rgba(60, 64, 67, 0.3), 0px 1px 3px 1px rgba(60, 64, 67, 0.15);\n",
              "      fill: #174EA6;\n",
              "    }\n",
              "\n",
              "    [theme=dark] .colab-df-convert {\n",
              "      background-color: #3B4455;\n",
              "      fill: #D2E3FC;\n",
              "    }\n",
              "\n",
              "    [theme=dark] .colab-df-convert:hover {\n",
              "      background-color: #434B5C;\n",
              "      box-shadow: 0px 1px 3px 1px rgba(0, 0, 0, 0.15);\n",
              "      filter: drop-shadow(0px 1px 2px rgba(0, 0, 0, 0.3));\n",
              "      fill: #FFFFFF;\n",
              "    }\n",
              "  </style>\n",
              "\n",
              "      <script>\n",
              "        const buttonEl =\n",
              "          document.querySelector('#df-d50ef5f5-0c38-43c8-858f-0f583991b14f button.colab-df-convert');\n",
              "        buttonEl.style.display =\n",
              "          google.colab.kernel.accessAllowed ? 'block' : 'none';\n",
              "\n",
              "        async function convertToInteractive(key) {\n",
              "          const element = document.querySelector('#df-d50ef5f5-0c38-43c8-858f-0f583991b14f');\n",
              "          const dataTable =\n",
              "            await google.colab.kernel.invokeFunction('convertToInteractive',\n",
              "                                                     [key], {});\n",
              "          if (!dataTable) return;\n",
              "\n",
              "          const docLinkHtml = 'Like what you see? Visit the ' +\n",
              "            '<a target=\"_blank\" href=https://colab.research.google.com/notebooks/data_table.ipynb>data table notebook</a>'\n",
              "            + ' to learn more about interactive tables.';\n",
              "          element.innerHTML = '';\n",
              "          dataTable['output_type'] = 'display_data';\n",
              "          await google.colab.output.renderOutput(dataTable, element);\n",
              "          const docLink = document.createElement('div');\n",
              "          docLink.innerHTML = docLinkHtml;\n",
              "          element.appendChild(docLink);\n",
              "        }\n",
              "      </script>\n",
              "    </div>\n",
              "  </div>\n",
              "  "
            ]
          },
          "metadata": {},
          "execution_count": 13
        }
      ]
    },
    {
      "cell_type": "code",
      "source": [
        "# check nas\n",
        "quest.isna().sum()"
      ],
      "metadata": {
        "colab": {
          "base_uri": "https://localhost:8080/"
        },
        "id": "upG53AiIYABP",
        "outputId": "f3702162-0841-4a9f-9e7a-b48de21086b2"
      },
      "execution_count": 16,
      "outputs": [
        {
          "output_type": "execute_result",
          "data": {
            "text/plain": [
              "question_id       0\n",
              "bundle_id         0\n",
              "correct_answer    0\n",
              "part              0\n",
              "tags              1\n",
              "dtype: int64"
            ]
          },
          "metadata": {},
          "execution_count": 16
        }
      ]
    },
    {
      "cell_type": "code",
      "source": [
        "print(f\"total number of questions: {quest.question_id.values[-1]+1}\")"
      ],
      "metadata": {
        "colab": {
          "base_uri": "https://localhost:8080/"
        },
        "id": "9E8WdEp-Z5CZ",
        "outputId": "f86f86df-25e9-4097-bb23-59911422bc3b"
      },
      "execution_count": 31,
      "outputs": [
        {
          "output_type": "stream",
          "name": "stdout",
          "text": [
            "total number of questions: 13523\n"
          ]
        }
      ]
    },
    {
      "cell_type": "markdown",
      "source": [
        "Get the list of all tags:"
      ],
      "metadata": {
        "id": "D1s8EMfbXxzB"
      }
    },
    {
      "cell_type": "code",
      "source": [
        "all_tags = sorted(list(set([x for sl in quest.tags.apply(lambda v: v.split(\" \") if v == v else \"-1\").values for x in sl])))\n",
        "print(all_tags)"
      ],
      "metadata": {
        "colab": {
          "base_uri": "https://localhost:8080/"
        },
        "id": "4SWQCRGvXXjT",
        "outputId": "f1ede1eb-b8f3-4bc4-d845-be8e83375029"
      },
      "execution_count": 24,
      "outputs": [
        {
          "output_type": "stream",
          "name": "stdout",
          "text": [
            "['-', '0', '1', '10', '100', '101', '102', '103', '104', '105', '106', '107', '108', '109', '11', '110', '111', '112', '113', '114', '115', '116', '117', '118', '119', '12', '120', '121', '122', '123', '124', '125', '126', '127', '128', '129', '13', '130', '131', '132', '133', '134', '135', '136', '137', '138', '139', '14', '140', '141', '142', '143', '144', '145', '146', '147', '148', '149', '15', '150', '151', '152', '153', '154', '155', '156', '157', '158', '159', '16', '160', '161', '162', '163', '164', '165', '166', '167', '168', '169', '17', '170', '171', '172', '173', '174', '175', '176', '177', '178', '179', '18', '180', '181', '182', '183', '184', '185', '186', '187', '19', '2', '20', '21', '22', '23', '24', '25', '26', '27', '28', '29', '3', '30', '31', '32', '33', '34', '35', '36', '37', '38', '39', '4', '40', '41', '42', '43', '44', '45', '46', '47', '48', '49', '5', '50', '51', '52', '53', '54', '55', '56', '57', '58', '59', '6', '60', '61', '62', '63', '64', '65', '66', '67', '68', '69', '7', '70', '71', '72', '73', '74', '75', '76', '77', '78', '79', '8', '80', '81', '82', '83', '84', '85', '86', '87', '88', '89', '9', '90', '91', '92', '93', '94', '95', '96', '97', '98', '99']\n"
          ]
        }
      ]
    },
    {
      "cell_type": "code",
      "source": [
        "# check if the tags list is a numeric range\n",
        "sorted([int(x) for x in all_tags if x != \"-\"]) == list(range(0, 188))"
      ],
      "metadata": {
        "colab": {
          "base_uri": "https://localhost:8080/"
        },
        "id": "CtD7oxBGY6H0",
        "outputId": "52848f73-eaaf-4263-b21a-3995680d678e"
      },
      "execution_count": 30,
      "outputs": [
        {
          "output_type": "execute_result",
          "data": {
            "text/plain": [
              "True"
            ]
          },
          "metadata": {},
          "execution_count": 30
        }
      ]
    },
    {
      "cell_type": "markdown",
      "source": [
        "So the tags are tne integer numeric values from 0 to 187, 188 in total."
      ],
      "metadata": {
        "id": "XcMNVX61ZYcu"
      }
    },
    {
      "cell_type": "markdown",
      "source": [
        "# research *lectures.csv* features"
      ],
      "metadata": {
        "id": "dViUuawLaIJr"
      }
    },
    {
      "cell_type": "code",
      "source": [
        "lectures = pd.read_csv(\"lectures.csv\")\n",
        "print(f\"shape: {lectures.shape}\")\n",
        "lectures.head()"
      ],
      "metadata": {
        "colab": {
          "base_uri": "https://localhost:8080/",
          "height": 224
        },
        "id": "FYnnlI65BnO1",
        "outputId": "9a7900b9-e15e-41cf-fe6d-0c62a9113903"
      },
      "execution_count": 33,
      "outputs": [
        {
          "output_type": "stream",
          "name": "stdout",
          "text": [
            "shape: (418, 4)\n"
          ]
        },
        {
          "output_type": "execute_result",
          "data": {
            "text/plain": [
              "   lecture_id  tag  part           type_of\n",
              "0          89  159     5           concept\n",
              "1         100   70     1           concept\n",
              "2         185   45     6           concept\n",
              "3         192   79     5  solving question\n",
              "4         317  156     5  solving question"
            ],
            "text/html": [
              "\n",
              "  <div id=\"df-8e035ad8-7812-4717-920a-441c1f620288\">\n",
              "    <div class=\"colab-df-container\">\n",
              "      <div>\n",
              "<style scoped>\n",
              "    .dataframe tbody tr th:only-of-type {\n",
              "        vertical-align: middle;\n",
              "    }\n",
              "\n",
              "    .dataframe tbody tr th {\n",
              "        vertical-align: top;\n",
              "    }\n",
              "\n",
              "    .dataframe thead th {\n",
              "        text-align: right;\n",
              "    }\n",
              "</style>\n",
              "<table border=\"1\" class=\"dataframe\">\n",
              "  <thead>\n",
              "    <tr style=\"text-align: right;\">\n",
              "      <th></th>\n",
              "      <th>lecture_id</th>\n",
              "      <th>tag</th>\n",
              "      <th>part</th>\n",
              "      <th>type_of</th>\n",
              "    </tr>\n",
              "  </thead>\n",
              "  <tbody>\n",
              "    <tr>\n",
              "      <th>0</th>\n",
              "      <td>89</td>\n",
              "      <td>159</td>\n",
              "      <td>5</td>\n",
              "      <td>concept</td>\n",
              "    </tr>\n",
              "    <tr>\n",
              "      <th>1</th>\n",
              "      <td>100</td>\n",
              "      <td>70</td>\n",
              "      <td>1</td>\n",
              "      <td>concept</td>\n",
              "    </tr>\n",
              "    <tr>\n",
              "      <th>2</th>\n",
              "      <td>185</td>\n",
              "      <td>45</td>\n",
              "      <td>6</td>\n",
              "      <td>concept</td>\n",
              "    </tr>\n",
              "    <tr>\n",
              "      <th>3</th>\n",
              "      <td>192</td>\n",
              "      <td>79</td>\n",
              "      <td>5</td>\n",
              "      <td>solving question</td>\n",
              "    </tr>\n",
              "    <tr>\n",
              "      <th>4</th>\n",
              "      <td>317</td>\n",
              "      <td>156</td>\n",
              "      <td>5</td>\n",
              "      <td>solving question</td>\n",
              "    </tr>\n",
              "  </tbody>\n",
              "</table>\n",
              "</div>\n",
              "      <button class=\"colab-df-convert\" onclick=\"convertToInteractive('df-8e035ad8-7812-4717-920a-441c1f620288')\"\n",
              "              title=\"Convert this dataframe to an interactive table.\"\n",
              "              style=\"display:none;\">\n",
              "        \n",
              "  <svg xmlns=\"http://www.w3.org/2000/svg\" height=\"24px\"viewBox=\"0 0 24 24\"\n",
              "       width=\"24px\">\n",
              "    <path d=\"M0 0h24v24H0V0z\" fill=\"none\"/>\n",
              "    <path d=\"M18.56 5.44l.94 2.06.94-2.06 2.06-.94-2.06-.94-.94-2.06-.94 2.06-2.06.94zm-11 1L8.5 8.5l.94-2.06 2.06-.94-2.06-.94L8.5 2.5l-.94 2.06-2.06.94zm10 10l.94 2.06.94-2.06 2.06-.94-2.06-.94-.94-2.06-.94 2.06-2.06.94z\"/><path d=\"M17.41 7.96l-1.37-1.37c-.4-.4-.92-.59-1.43-.59-.52 0-1.04.2-1.43.59L10.3 9.45l-7.72 7.72c-.78.78-.78 2.05 0 2.83L4 21.41c.39.39.9.59 1.41.59.51 0 1.02-.2 1.41-.59l7.78-7.78 2.81-2.81c.8-.78.8-2.07 0-2.86zM5.41 20L4 18.59l7.72-7.72 1.47 1.35L5.41 20z\"/>\n",
              "  </svg>\n",
              "      </button>\n",
              "      \n",
              "  <style>\n",
              "    .colab-df-container {\n",
              "      display:flex;\n",
              "      flex-wrap:wrap;\n",
              "      gap: 12px;\n",
              "    }\n",
              "\n",
              "    .colab-df-convert {\n",
              "      background-color: #E8F0FE;\n",
              "      border: none;\n",
              "      border-radius: 50%;\n",
              "      cursor: pointer;\n",
              "      display: none;\n",
              "      fill: #1967D2;\n",
              "      height: 32px;\n",
              "      padding: 0 0 0 0;\n",
              "      width: 32px;\n",
              "    }\n",
              "\n",
              "    .colab-df-convert:hover {\n",
              "      background-color: #E2EBFA;\n",
              "      box-shadow: 0px 1px 2px rgba(60, 64, 67, 0.3), 0px 1px 3px 1px rgba(60, 64, 67, 0.15);\n",
              "      fill: #174EA6;\n",
              "    }\n",
              "\n",
              "    [theme=dark] .colab-df-convert {\n",
              "      background-color: #3B4455;\n",
              "      fill: #D2E3FC;\n",
              "    }\n",
              "\n",
              "    [theme=dark] .colab-df-convert:hover {\n",
              "      background-color: #434B5C;\n",
              "      box-shadow: 0px 1px 3px 1px rgba(0, 0, 0, 0.15);\n",
              "      filter: drop-shadow(0px 1px 2px rgba(0, 0, 0, 0.3));\n",
              "      fill: #FFFFFF;\n",
              "    }\n",
              "  </style>\n",
              "\n",
              "      <script>\n",
              "        const buttonEl =\n",
              "          document.querySelector('#df-8e035ad8-7812-4717-920a-441c1f620288 button.colab-df-convert');\n",
              "        buttonEl.style.display =\n",
              "          google.colab.kernel.accessAllowed ? 'block' : 'none';\n",
              "\n",
              "        async function convertToInteractive(key) {\n",
              "          const element = document.querySelector('#df-8e035ad8-7812-4717-920a-441c1f620288');\n",
              "          const dataTable =\n",
              "            await google.colab.kernel.invokeFunction('convertToInteractive',\n",
              "                                                     [key], {});\n",
              "          if (!dataTable) return;\n",
              "\n",
              "          const docLinkHtml = 'Like what you see? Visit the ' +\n",
              "            '<a target=\"_blank\" href=https://colab.research.google.com/notebooks/data_table.ipynb>data table notebook</a>'\n",
              "            + ' to learn more about interactive tables.';\n",
              "          element.innerHTML = '';\n",
              "          dataTable['output_type'] = 'display_data';\n",
              "          await google.colab.output.renderOutput(dataTable, element);\n",
              "          const docLink = document.createElement('div');\n",
              "          docLink.innerHTML = docLinkHtml;\n",
              "          element.appendChild(docLink);\n",
              "        }\n",
              "      </script>\n",
              "    </div>\n",
              "  </div>\n",
              "  "
            ]
          },
          "metadata": {},
          "execution_count": 33
        }
      ]
    },
    {
      "cell_type": "code",
      "source": [
        "print(f\"total number of lectures: {lectures.lecture_id.nunique()}\")\n",
        "lectures.lecture_id.unique()"
      ],
      "metadata": {
        "colab": {
          "base_uri": "https://localhost:8080/"
        },
        "id": "erdbLzqYBnRl",
        "outputId": "732eac88-3864-4463-c67b-6914baababca"
      },
      "execution_count": 35,
      "outputs": [
        {
          "output_type": "stream",
          "name": "stdout",
          "text": [
            "total number of lectures: 418\n"
          ]
        },
        {
          "output_type": "execute_result",
          "data": {
            "text/plain": [
              "array([   89,   100,   185,   192,   317,   335,   484,   641,   761,\n",
              "         814,  1003,  1077,  1105,  1144,  1253,  1308,  1450,  1501,\n",
              "        1604,  1731,  1887,  1907,  1967,  2033,  2049,  2084,  2278,\n",
              "        2282,  2299,  2327,  2476,  2771,  2857,  2904,  2918,  3078,\n",
              "        3113,  3123,  3153,  3255,  3625,  3668,  3697,  3780,  3803,\n",
              "        3852,  3879,  3937,  4057,  4072,  4100,  4118,  4173,  4187,\n",
              "        4385,  4425,  4441,  4652,  4705,  4883,  5120,  5240,  5266,\n",
              "        5588,  5694,  5752,  5990,  6081,  6101,  6137,  6220,  6316,\n",
              "        6481,  6619,  6761,  6797,  6808,  6948,  7008,  7010,  7097,\n",
              "        7385,  7477,  7704,  7785,  7877,  7920,  7926,  7949,  8138,\n",
              "        8207,  8233,  8240,  8288,  8317,  8320,  8330,  8411,  8461,\n",
              "        8513,  8693,  8708,  8821,  8976,  8977,  9174,  9212,  9245,\n",
              "        9477,  9554,  9758,  9831,  9835,  9856,  9896, 10010, 10032,\n",
              "       10040, 10052, 10075, 10180, 10217, 10354, 10382, 10383, 10540,\n",
              "       10688, 10742, 10852, 10928, 11151, 11230, 11236, 11485, 11559,\n",
              "       11772, 11873, 11877, 12007, 12187, 12294, 12354, 12469, 12472,\n",
              "       12509, 12638, 12655, 12811, 12831, 12846, 12942, 13138, 13256,\n",
              "       13336, 13379, 13384, 13471, 13487, 13550, 13600, 13605, 13639,\n",
              "       13660, 13704, 13706, 13909, 13942, 14015, 14019, 14021, 14059,\n",
              "       14174, 14287, 14323, 14325, 14429, 14443, 14529, 14654, 14811,\n",
              "       14931, 14942, 15062, 15256, 15298, 15359, 15388, 15430, 15722,\n",
              "       15858, 15888, 16013, 16034, 16136, 16192, 16218, 16329, 16363,\n",
              "       16444, 16551, 16588, 16629, 16736, 16773, 16863, 16874, 16992,\n",
              "       17048, 17124, 17199, 17243, 17326, 17329, 17519, 17614, 17649,\n",
              "       17807, 17914, 18091, 18101, 18186, 18239, 18307, 18346, 18397,\n",
              "       18412, 18467, 18545, 18668, 18704, 18862, 18903, 18916, 19093,\n",
              "       19147, 19178, 19184, 19223, 19224, 19411, 19567, 19744, 19807,\n",
              "       20009, 20080, 20105, 20306, 20307, 20474, 20506, 20534, 20584,\n",
              "       20590, 20763, 20791, 20804, 20843, 20852, 21094, 21152, 21168,\n",
              "       21169, 21411, 21509, 21557, 21597, 21747, 21852, 21887, 21926,\n",
              "       22034, 22042, 22054, 22056, 22089, 22101, 22135, 22326, 22353,\n",
              "       22357, 22362, 22390, 22596, 22619, 22711, 22792, 22817, 22836,\n",
              "       22938, 23144, 23165, 23223, 23239, 23262, 23336, 23405, 23716,\n",
              "       23717, 23732, 23815, 23841, 23855, 24149, 24250, 24335, 24402,\n",
              "       24558, 24570, 24633, 24697, 24758, 24870, 24901, 24908, 24910,\n",
              "       24985, 25004, 25089, 25121, 25401, 25843, 25857, 25876, 26004,\n",
              "       26052, 26183, 26335, 26348, 26382, 26404, 26516, 26711, 26852,\n",
              "       26921, 26946, 27022, 27043, 27054, 27115, 27204, 27264, 27339,\n",
              "       27400, 27402, 27414, 27463, 27507, 27683, 27684, 27699, 27728,\n",
              "       27845, 27851, 27954, 28034, 28098, 28122, 28136, 28349, 28455,\n",
              "       28511, 28527, 28569, 28621, 28921, 29082, 29171, 29544, 29559,\n",
              "       29577, 29579, 29680, 29695, 29722, 30065, 30100, 30127, 30159,\n",
              "       30194, 30207, 30248, 30251, 30276, 30284, 30455, 30496, 30609,\n",
              "       30671, 30681, 30687, 30722, 30943, 30958, 31077, 31108, 31421,\n",
              "       31440, 31589, 31595, 31613, 31657, 31763, 31987, 32018, 32023,\n",
              "       32095, 32135, 32146, 32168, 32175, 32264, 32312, 32491, 32535,\n",
              "       32570, 32604, 32625, 32736])"
            ]
          },
          "metadata": {},
          "execution_count": 35
        }
      ]
    },
    {
      "cell_type": "code",
      "source": [
        "plt.hist(lectures.type_of.value_counts().values)"
      ],
      "metadata": {
        "colab": {
          "base_uri": "https://localhost:8080/",
          "height": 337
        },
        "id": "WGG8Kr6ycPdd",
        "outputId": "f4290920-bd44-4211-fa77-2097d6bf2bab"
      },
      "execution_count": 55,
      "outputs": [
        {
          "output_type": "execute_result",
          "data": {
            "text/plain": [
              "(array([2., 0., 0., 0., 0., 0., 0., 0., 1., 1.]),\n",
              " array([  3. ,  24.9,  46.8,  68.7,  90.6, 112.5, 134.4, 156.3, 178.2,\n",
              "        200.1, 222. ]),\n",
              " <a list of 10 Patch objects>)"
            ]
          },
          "metadata": {},
          "execution_count": 55
        },
        {
          "output_type": "display_data",
          "data": {
            "text/plain": [
              "<Figure size 432x288 with 1 Axes>"
            ],
            "image/png": "[encoded data removed]"
          },
          "metadata": {
            "needs_background": "light"
          }
        }
      ]
    },
    {
      "cell_type": "code",
      "source": [
        "plt.figure(figsize=(13,7))\n",
        "plt.title(\"lectures by type\")\n",
        "plt.pie(lectures.type_of.value_counts(), labels=lectures.type_of.value_counts().keys())\n",
        "plt.show()"
      ],
      "metadata": {
        "colab": {
          "base_uri": "https://localhost:8080/",
          "height": 427
        },
        "id": "Aa6crM4HcnWw",
        "outputId": "60ba433b-7a86-4446-96cd-bcc575f47310"
      },
      "execution_count": 61,
      "outputs": [
        {
          "output_type": "display_data",
          "data": {
            "text/plain": [
              "<Figure size 936x504 with 1 Axes>"
            ],
            "image/png": "[encoded data removed]"
          },
          "metadata": {}
        }
      ]
    },
    {
      "cell_type": "code",
      "source": [
        "# check if the tags are the same as in the questions\n",
        "sorted(lectures.tag.unique()) == list(range(0, 188))"
      ],
      "metadata": {
        "colab": {
          "base_uri": "https://localhost:8080/"
        },
        "id": "COyC2uW1BnUY",
        "outputId": "369ce31f-3cc7-4317-c7d4-cbf226699991"
      },
      "execution_count": 44,
      "outputs": [
        {
          "output_type": "execute_result",
          "data": {
            "text/plain": [
              "False"
            ]
          },
          "metadata": {},
          "execution_count": 44
        }
      ]
    },
    {
      "cell_type": "code",
      "source": [
        "# check whick tags differ\n",
        "print([x for x in sorted(lectures.tag.unique()) if x not in list(range(0, 188))])\n",
        "print([x for x in list(range(0, 188)) if x not in sorted(lectures.tag.unique())])"
      ],
      "metadata": {
        "colab": {
          "base_uri": "https://localhost:8080/"
        },
        "id": "axaVwlCZBnXd",
        "outputId": "d93b656f-fe7c-4639-be5a-e41908927c3c"
      },
      "execution_count": 47,
      "outputs": [
        {
          "output_type": "stream",
          "name": "stdout",
          "text": [
            "[]\n",
            "[3, 10, 11, 21, 22, 29, 32, 35, 38, 41, 46, 56, 59, 63, 77, 81, 84, 86, 87, 88, 92, 100, 102, 107, 110, 117, 121, 122, 131, 135, 146, 154, 160, 162, 165, 185, 186]\n"
          ]
        }
      ]
    },
    {
      "cell_type": "markdown",
      "source": [
        "Not all the question tags are covered by lectures."
      ],
      "metadata": {
        "id": "jfqvXm2sdWmz"
      }
    }
  ]
}